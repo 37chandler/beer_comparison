{
 "cells": [
  {
   "cell_type": "markdown",
   "metadata": {},
   "source": [
    "# Pulling Beer Company Followers Data with Tweepy\n",
    "**By:** _Mike Scheibel_ "
   ]
  },
  {
   "cell_type": "code",
   "execution_count": 1,
   "metadata": {},
   "outputs": [],
   "source": [
    "import datetime\n",
    "import tweepy\n",
    "from pprint import pprint\n",
    "\n",
    "# I've put my API keys in a .py file called API_keys.py\n",
    "from Mike_API_Keys import api_key, api_key_secret, access_token, access_token_secret"
   ]
  },
  {
   "cell_type": "code",
   "execution_count": 2,
   "metadata": {},
   "outputs": [],
   "source": [
    "# Authenticate the Tweepy API\n",
    "auth = tweepy.OAuthHandler(api_key,api_key_secret)\n",
    "auth.set_access_token(access_token, access_token_secret)\n",
    "api = tweepy.API(auth,wait_on_rate_limit=True)"
   ]
  },
  {
   "cell_type": "markdown",
   "metadata": {},
   "source": [
    "## Collecting Followers"
   ]
  },
  {
   "cell_type": "code",
   "execution_count": 3,
   "metadata": {},
   "outputs": [
    {
     "name": "stdout",
     "output_type": "stream",
     "text": [
      "0:00:07.682221\n"
     ]
    }
   ],
   "source": [
    "# I'm putting the handles in a list to iterate through below\n",
    "handles = ['AmstelLight','Heineken_US', 'LabattUSA', 'yuenglingbeer','StellaArtois','MichelobULTRA', \n",
    "           'ModeloUSA', 'GuinnessGB', 'DosEquis', 'CoorsLight', 'budlight', 'naturallight', \n",
    "           'MillerLite', 'PabstBlueRibbon']\n",
    "\n",
    "# Create dictionary to hold follower IDs\n",
    "id_dict = dict() \n",
    "\n",
    "# Intialize dictionary.\n",
    "for handle in handles :\n",
    "    id_dict[handle] = []\n",
    "\n",
    "# Grabs the time when we start making requests to the API\n",
    "start_time = datetime.datetime.now()\n",
    "\n",
    "for handle in id_dict :\n",
    "    \n",
    "    # Let's grab the first page of IDs\n",
    "    for page in tweepy.Cursor(api.followers_ids,\n",
    "                              wait_on_rate_limit=True,\n",
    "                              wait_on_rate_limit_notify=True, \n",
    "                              compression=True,\n",
    "                              screen_name=handle).pages():\n",
    "\n",
    "        # The page variable comes back as a list, so we have to use .extend rather than .append\n",
    "        id_dict[handle].extend(page)\n",
    "        \n",
    "        break\n",
    "        \n",
    "# Let's see how long it took to grab all follower IDs\n",
    "end_time = datetime.datetime.now()\n",
    "elapsed_time = end_time - start_time\n",
    "print(elapsed_time)"
   ]
  },
  {
   "cell_type": "code",
   "execution_count": 4,
   "metadata": {},
   "outputs": [
    {
     "name": "stdout",
     "output_type": "stream",
     "text": [
      "AmstelLight has 2280 followers in our dictionary.\n",
      "Heineken_US has 5000 followers in our dictionary.\n",
      "LabattUSA has 5000 followers in our dictionary.\n",
      "yuenglingbeer has 5000 followers in our dictionary.\n",
      "StellaArtois has 5000 followers in our dictionary.\n",
      "MichelobULTRA has 5000 followers in our dictionary.\n",
      "ModeloUSA has 5000 followers in our dictionary.\n",
      "GuinnessGB has 5000 followers in our dictionary.\n",
      "DosEquis has 5000 followers in our dictionary.\n",
      "CoorsLight has 5000 followers in our dictionary.\n",
      "budlight has 5000 followers in our dictionary.\n",
      "naturallight has 5000 followers in our dictionary.\n",
      "MillerLite has 5000 followers in our dictionary.\n",
      "PabstBlueRibbon has 5000 followers in our dictionary.\n"
     ]
    }
   ],
   "source": [
    "# let's make sure it worked\n",
    "for handle in id_dict :\n",
    "    print(f\"{handle} has {len(id_dict[handle])} followers in our dictionary.\")"
   ]
  },
  {
   "cell_type": "markdown",
   "metadata": {},
   "source": [
    "## Collecting Followers Information"
   ]
  },
  {
   "cell_type": "code",
   "execution_count": 5,
   "metadata": {},
   "outputs": [],
   "source": [
    "# The code inside this function comes from Brenden Connors\n",
    "# This will quickly grab information about each follower.\n",
    "def get_screen_names(twitter_api, list_of_ids, list_for_screen_names):\n",
    "    \n",
    "    start=0 #we have feed the API 100 ID's at a time, this will iterate through them\n",
    "    end=0\n",
    "    followers=[]\n",
    "    while end-1 <= len(list_of_ids): #quit when we get past the end of our list\n",
    "        end += 100 #update the end of our slice\n",
    "        if end <= len(list_of_ids): #split into if else statement to slice correctly\n",
    "            try:\n",
    "                followers_temp = twitter_api.lookup_users(list_of_ids[start:end])\n",
    "            except tweepy.TweepError as err:\n",
    "                if err.api_code in (103,88) :\n",
    "                    print('sleeping, 900 seconds')\n",
    "                    time.sleep(900)\n",
    "                else :\n",
    "                    print(err)\n",
    "        else:        \n",
    "            try:\n",
    "                followers_temp = twitter_api.lookup_users(list_of_ids[start:])\n",
    "            except tweepy.TweepError as err:\n",
    "                if err.api_code in (103,88) :\n",
    "                    print('sleeping, 900 seconds')\n",
    "                    time.sleep(900)\n",
    "                else :\n",
    "                    print(err)\n",
    "                    \n",
    "        followers.extend(followers_temp)\n",
    "        start = end #update our starting slice index for next loop\n",
    "        \n",
    "    list_for_screen_names.extend(followers)\n",
    "        "
   ]
  },
  {
   "cell_type": "code",
   "execution_count": 6,
   "metadata": {},
   "outputs": [
    {
     "name": "stdout",
     "output_type": "stream",
     "text": [
      "[{'code': 17, 'message': 'No user matches for specified terms.'}]\n",
      "[{'code': 17, 'message': 'No user matches for specified terms.'}]\n",
      "[{'code': 17, 'message': 'No user matches for specified terms.'}]\n",
      "[{'code': 17, 'message': 'No user matches for specified terms.'}]\n",
      "[{'code': 17, 'message': 'No user matches for specified terms.'}]\n",
      "[{'code': 17, 'message': 'No user matches for specified terms.'}]\n",
      "[{'code': 17, 'message': 'No user matches for specified terms.'}]\n",
      "[{'code': 17, 'message': 'No user matches for specified terms.'}]\n",
      "[{'code': 17, 'message': 'No user matches for specified terms.'}]\n",
      "[{'code': 17, 'message': 'No user matches for specified terms.'}]\n",
      "[{'code': 17, 'message': 'No user matches for specified terms.'}]\n",
      "[{'code': 17, 'message': 'No user matches for specified terms.'}]\n",
      "[{'code': 17, 'message': 'No user matches for specified terms.'}]\n"
     ]
    }
   ],
   "source": [
    "user_dict = dict() \n",
    "\n",
    "for handle in id_dict :\n",
    "    user_dict[handle] = []\n",
    "    \n",
    "for handle in user_dict :\n",
    "    get_screen_names(api,id_dict[handle],user_dict[handle])"
   ]
  },
  {
   "cell_type": "code",
   "execution_count": 7,
   "metadata": {},
   "outputs": [
    {
     "name": "stdout",
     "output_type": "stream",
     "text": [
      "AmstelLight has 2280 followers in our dictionary.\n",
      "Heineken_US has 5100 followers in our dictionary.\n",
      "LabattUSA has 5100 followers in our dictionary.\n",
      "yuenglingbeer has 5100 followers in our dictionary.\n",
      "StellaArtois has 5100 followers in our dictionary.\n",
      "MichelobULTRA has 5100 followers in our dictionary.\n",
      "ModeloUSA has 5100 followers in our dictionary.\n",
      "GuinnessGB has 5100 followers in our dictionary.\n",
      "DosEquis has 5100 followers in our dictionary.\n",
      "CoorsLight has 5100 followers in our dictionary.\n",
      "budlight has 5100 followers in our dictionary.\n",
      "naturallight has 5100 followers in our dictionary.\n",
      "MillerLite has 5100 followers in our dictionary.\n",
      "PabstBlueRibbon has 5100 followers in our dictionary.\n"
     ]
    }
   ],
   "source": [
    "for handle in user_dict :\n",
    "    print(f\"{handle} has {len(user_dict[handle])} followers in our dictionary.\") "
   ]
  },
  {
   "cell_type": "code",
   "execution_count": null,
   "metadata": {},
   "outputs": [],
   "source": [
    "headers = ['screen_name','name','id','location','followers_count','friends_count','description']\n",
    "\n",
    "for team in id_dict.keys():\n",
    "    \n",
    "    # Descriptions with emoji or non-Roman letters can cause trouble. Encoding your .txt file in utf-8 will help\n",
    "    with open(f'{team}_followers.txt','w', encoding='utf-8') as out_file:\n",
    "        out_file.write('\\t'.join(headers) + '\\n')\n",
    "\n",
    "        for idx, ids in enumerate(id_dict[team]):\n",
    "            \n",
    "            # For accounts set to private, we won't be able to get the description unless we follow them\n",
    "            # Putting in a try/except statement, we can get around this issue.\n",
    "            try:\n",
    "                user = api.get_user(ids)\n",
    "                description = str(user.description).replace('\\t',' ').replace('\\n',' ')\n",
    "                outline = [user.screen_name,user.name,user.id,\n",
    "                    user.location,user.followers_count,user.friends_count,\n",
    "                    user.description]\n",
    "                \n",
    "                out_file.write('\\t'.join([str(item) for item in outline]) + '\\n')\n",
    "                \n",
    "            except:\n",
    "                continue\n",
    "\n",
    "            "
   ]
  }
 ],
 "metadata": {
  "kernelspec": {
   "display_name": "Python 3",
   "language": "python",
   "name": "python3"
  },
  "language_info": {
   "codemirror_mode": {
    "name": "ipython",
    "version": 3
   },
   "file_extension": ".py",
   "mimetype": "text/x-python",
   "name": "python",
   "nbconvert_exporter": "python",
   "pygments_lexer": "ipython3",
   "version": "3.8.3"
  }
 },
 "nbformat": 4,
 "nbformat_minor": 4
}
